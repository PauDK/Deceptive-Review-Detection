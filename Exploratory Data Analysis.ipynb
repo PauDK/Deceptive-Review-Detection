{
 "cells": [
  {
   "cell_type": "code",
   "execution_count": 70,
   "id": "158a2797",
   "metadata": {},
   "outputs": [],
   "source": [
    "import random\n",
    "import numpy as np\n",
    "import pandas\n",
    "from matplotlib import pyplot as plt\n",
    "import seaborn as sns"
   ]
  },
  {
   "cell_type": "code",
   "execution_count": 1,
   "id": "1ce6b973",
   "metadata": {},
   "outputs": [],
   "source": [
    "import data_prep\n",
    "import ngram\n",
    "import linguistic_feature"
   ]
  },
  {
   "cell_type": "code",
   "execution_count": 13,
   "id": "45ec3c3d",
   "metadata": {},
   "outputs": [
    {
     "name": "stdout",
     "output_type": "stream",
     "text": [
      "1600\n"
     ]
    },
    {
     "data": {
      "text/html": [
       "<div>\n",
       "<style scoped>\n",
       "    .dataframe tbody tr th:only-of-type {\n",
       "        vertical-align: middle;\n",
       "    }\n",
       "\n",
       "    .dataframe tbody tr th {\n",
       "        vertical-align: top;\n",
       "    }\n",
       "\n",
       "    .dataframe thead th {\n",
       "        text-align: right;\n",
       "    }\n",
       "</style>\n",
       "<table border=\"1\" class=\"dataframe\">\n",
       "  <thead>\n",
       "    <tr style=\"text-align: right;\">\n",
       "      <th></th>\n",
       "      <th>Label</th>\n",
       "      <th>Rating</th>\n",
       "      <th>Ori_Review</th>\n",
       "    </tr>\n",
       "  </thead>\n",
       "  <tbody>\n",
       "    <tr>\n",
       "      <th>0</th>\n",
       "      <td>1</td>\n",
       "      <td>1</td>\n",
       "      <td>Affinia Chicago is one of the worst hotels I h...</td>\n",
       "    </tr>\n",
       "    <tr>\n",
       "      <th>1</th>\n",
       "      <td>1</td>\n",
       "      <td>1</td>\n",
       "      <td>I recently stayed at the Affina Chicago hotel ...</td>\n",
       "    </tr>\n",
       "    <tr>\n",
       "      <th>2</th>\n",
       "      <td>1</td>\n",
       "      <td>1</td>\n",
       "      <td>I stayed at the Affina Chicago for my annivers...</td>\n",
       "    </tr>\n",
       "    <tr>\n",
       "      <th>3</th>\n",
       "      <td>1</td>\n",
       "      <td>1</td>\n",
       "      <td>If you are looking for a high end hotel on the...</td>\n",
       "    </tr>\n",
       "    <tr>\n",
       "      <th>4</th>\n",
       "      <td>1</td>\n",
       "      <td>1</td>\n",
       "      <td>I just returned from a long weekend in Chicago...</td>\n",
       "    </tr>\n",
       "  </tbody>\n",
       "</table>\n",
       "</div>"
      ],
      "text/plain": [
       "   Label  Rating                                         Ori_Review\n",
       "0      1       1  Affinia Chicago is one of the worst hotels I h...\n",
       "1      1       1  I recently stayed at the Affina Chicago hotel ...\n",
       "2      1       1  I stayed at the Affina Chicago for my annivers...\n",
       "3      1       1  If you are looking for a high end hotel on the...\n",
       "4      1       1  I just returned from a long weekend in Chicago..."
      ]
     },
     "metadata": {},
     "output_type": "display_data"
    }
   ],
   "source": [
    "df = data_prep.import_chi_review()\n",
    "print(len(df))\n",
    "display(df[:5])"
   ]
  },
  {
   "cell_type": "code",
   "execution_count": 14,
   "id": "6338d1d5",
   "metadata": {},
   "outputs": [],
   "source": [
    "df = data_prep.preprocess_ngram(df)\n",
    "df['length_char'] = df['Ori_Review'].apply(len)\n",
    "df['length_word'] = df['Ori_Review'].apply(lambda x: len(x.split()))"
   ]
  },
  {
   "cell_type": "markdown",
   "id": "b86acb86",
   "metadata": {},
   "source": [
    "## Sample Reviews"
   ]
  },
  {
   "cell_type": "markdown",
   "id": "0f8b3e84",
   "metadata": {},
   "source": [
    "#### Deceptive"
   ]
  },
  {
   "cell_type": "code",
   "execution_count": 33,
   "id": "36ce8989",
   "metadata": {},
   "outputs": [
    {
     "name": "stdout",
     "output_type": "stream",
     "text": [
      "The Omni Chicago Hotel offers all the great amenities in comfort that is expected of a luxury hotel, particularly speedy and easy wireless internet access and nice-sized plasma tv's. The windows are big enough to give a spectacular view of the city skyline while reclining on a great sofa in a comfortable and luxurious living room, before sleeping in a king-sized bed of either feather or foam pillows, which is particularly relaxing after taking a bath or shower in the spacious bathroom. An in-room massage appointment will add an additional relaxing aspect to the stay. There's even an exercise kit within the room for extra convince. However, the vast fitness center is just as worthy to use, as well as the whirlpool, Jacuzzi and the indoor swimming pool. Sunbathing is an easy activity to achieve via the two rooftop sundecks. A nice aspect that isn't so common to find is the ability to have small pets stay with you in the hotel. The Omni Chicago is a great way to add a bit of luxury to any type of vacation, particularly when you don't want to be separated from your pet, within the area.\n",
      "\n",
      "While visiting the Chicago area, we chose the Hotel Monaco Chicago for our stay. As one of the premier luxury hotels in Chicago, we held high expectations but were quickly disappointed in what we recieved. The problems began as soon as we arrived. The attendant was not friendly nor did she have the smile that is suppose to be the symbol of Kimpton. And, when we went to our room only to discover that we had not been given what we had paid for, the situation only got worse. Rather than apologize for the error (my credit card receipt was on hand) we were blamed for the indescrpencies in rooms and told that not only was the room we had reserved and paid for more than two months unavailable, we would not recieve a refund of the price difference of the two rooms. I could not believe that a top 40 U.S. hotel that is suppose to be committed to excellence could make such a blunder! With no choice but to retreat back to our room, we were pleasantly pleased with all of the amenities that we did recieve during our stay. A beautiful hotel in the Chicago Loop, but don't go expecting to be treated with respect or professionalism.\n",
      "\n",
      "I decided to spend the extra money booking a room at the Monaco because of the website's pictures of the beautiful rooms and views. It was a waste of cash, to say the least. Although I had requested a room with a view of the city, they must have given me the worst room in the place. Maid service skipped over my room on my second day there, and I had to call for towels at least twice before someone finally came to my room. The food was outrageously expensive and not even lukewarm. Two-star hotel quality.\n",
      "\n"
     ]
    }
   ],
   "source": [
    "for txt in df[df['Label'] == 1]['Ori_Review'].sample(3):\n",
    "    print(txt)\n",
    "    print()"
   ]
  },
  {
   "cell_type": "markdown",
   "id": "1c977dba",
   "metadata": {},
   "source": [
    "#### Truthful"
   ]
  },
  {
   "cell_type": "code",
   "execution_count": 48,
   "id": "97fd6180",
   "metadata": {},
   "outputs": [
    {
     "name": "stdout",
     "output_type": "stream",
     "text": [
      "My husband and I had a wonderful stay at the Omni Chicago Hotel. I had contacted the customer service representative prior to our stay to request a quiet suite. When we arrived, she greeted us and confirmed that we were getting exactly what I had requested--and more. Our suite had a partial view of the lake!!! And, we were able to check in early. The service at this hotel is incredible. Everyone made us feel welcome and took care to respond to any question or request that we had. The suite was very quiet even though we were on the east side of the hotel, very near to Michigan Avenue. Housekeeping was prompt and thorough. We really couldn't have asked for a better hotel. We will definitely stay there on future trips to Chicago and will recommend this hotel to anyone who travels there.\n",
      "\n",
      "We brought our giant rottweiler and she had a great time. Small rooms, but this is normal for the chicago hotel scene. Lots of interesting amenities in the room. Convenient to theatres and downtown restaurants and shopping. Really loved the lobby -- a great place to hang around or wait for someone. Lots of nooks and crannies and little tables and sofas everywhere. Watch out: The concierge (like all concierges at big hotels) will direct you to mediocre, large restaurants where they get kickbacks. We have stayed here several times and I always check for rooms here when I travel to Chicago. However, the hotel is often full so book early.\n",
      "\n",
      "This was our third trip to Chicago this year (we LOVE the city!) - every time we stay at a different downtown hotel. Swissotel was definitely our favourite. When we come back in July to see the play \" Wicked\" for the second time, we will be again at Swissotel. No more need to try other hotels! The location is good because it is between the financial district and the Magnificent Mile. The room was spotless and quiet, the view amazing and those elevators were so fast. Comfortable beds, friendly service, not as many noisy sirens! We even watched the Navy Pier fireworks from our bed! This was the best anniversary ever. We would recommend Swissotel to everyone!\n",
      "\n"
     ]
    }
   ],
   "source": [
    "for txt in df[df['Label'] == -1]['Ori_Review'].sample(3):\n",
    "    print(txt)\n",
    "    print()"
   ]
  },
  {
   "cell_type": "code",
   "execution_count": 95,
   "id": "677f64a3",
   "metadata": {},
   "outputs": [
    {
     "data": {
      "text/plain": [
       "<matplotlib.legend.Legend at 0x2853a01c400>"
      ]
     },
     "execution_count": 95,
     "metadata": {},
     "output_type": "execute_result"
    },
    {
     "data": {
      "image/png": "[encoded data removed]",
      "text/plain": [
       "<Figure size 1080x360 with 2 Axes>"
      ]
     },
     "metadata": {},
     "output_type": "display_data"
    }
   ],
   "source": [
    "fig, (ax1, ax2) = plt.subplots(1, 2)\n",
    "fig.set_figheight(5)\n",
    "fig.set_figwidth(15)\n",
    "sns.histplot(df[df['Label'] == 1]['length_char'], ax=ax1, element=\"step\", fill=False, label='Deceptive')\n",
    "sns.histplot(df[df['Label'] == -1]['length_char'], ax=ax1, element=\"step\", fill=False, label='Truthful')\n",
    "ax1.set_title('Sentence Length (Charactor) Histogram')\n",
    "ax1.legend()\n",
    "sns.histplot(df[df['Label'] == 1]['length_word'], ax=ax2, element=\"step\", fill=False, label='Deceptive')\n",
    "sns.histplot(df[df['Label'] == -1]['length_word'], ax=ax2, element=\"step\", fill=False, label='Truthful')\n",
    "ax2.set_title('Sentence Length (Word) Histogram')\n",
    "ax2.legend()"
   ]
  }
 ],
 "metadata": {
  "kernelspec": {
   "display_name": "Python (base)",
   "language": "python",
   "name": "base"
  },
  "language_info": {
   "codemirror_mode": {
    "name": "ipython",
    "version": 3
   },
   "file_extension": ".py",
   "mimetype": "text/x-python",
   "name": "python",
   "nbconvert_exporter": "python",
   "pygments_lexer": "ipython3",
   "version": "3.8.8"
  }
 },
 "nbformat": 4,
 "nbformat_minor": 5
}
