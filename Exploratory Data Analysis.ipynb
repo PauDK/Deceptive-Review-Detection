{
 "cells": [
  {
   "cell_type": "code",
   "execution_count": 24,
   "id": "787c4327",
   "metadata": {},
   "outputs": [
    {
     "name": "stdout",
     "output_type": "stream",
     "text": [
      "The autoreload extension is already loaded. To reload it, use:\n",
      "  %reload_ext autoreload\n"
     ]
    }
   ],
   "source": [
    "%load_ext autoreload\n",
    "%autoreload 2"
   ]
  },
  {
   "cell_type": "code",
   "execution_count": 25,
   "id": "158a2797",
   "metadata": {},
   "outputs": [],
   "source": [
    "import random\n",
    "import numpy as np\n",
    "import pandas\n",
    "from matplotlib import pyplot as plt\n",
    "import seaborn as sns\n",
    "sns.set_theme()"
   ]
  },
  {
   "cell_type": "code",
   "execution_count": 26,
   "id": "1ce6b973",
   "metadata": {},
   "outputs": [],
   "source": [
    "import data_prep\n",
    "import ngram\n",
    "import linguistic_feature"
   ]
  },
  {
   "cell_type": "code",
   "execution_count": 27,
   "id": "45ec3c3d",
   "metadata": {},
   "outputs": [
    {
     "name": "stdout",
     "output_type": "stream",
     "text": [
      "1600\n"
     ]
    },
    {
     "data": {
      "text/html": [
       "<div>\n",
       "<style scoped>\n",
       "    .dataframe tbody tr th:only-of-type {\n",
       "        vertical-align: middle;\n",
       "    }\n",
       "\n",
       "    .dataframe tbody tr th {\n",
       "        vertical-align: top;\n",
       "    }\n",
       "\n",
       "    .dataframe thead th {\n",
       "        text-align: right;\n",
       "    }\n",
       "</style>\n",
       "<table border=\"1\" class=\"dataframe\">\n",
       "  <thead>\n",
       "    <tr style=\"text-align: right;\">\n",
       "      <th></th>\n",
       "      <th>Label</th>\n",
       "      <th>Rating</th>\n",
       "      <th>Ori_Review</th>\n",
       "    </tr>\n",
       "  </thead>\n",
       "  <tbody>\n",
       "    <tr>\n",
       "      <th>0</th>\n",
       "      <td>1</td>\n",
       "      <td>1</td>\n",
       "      <td>Affinia Chicago is one of the worst hotels I h...</td>\n",
       "    </tr>\n",
       "    <tr>\n",
       "      <th>1</th>\n",
       "      <td>1</td>\n",
       "      <td>1</td>\n",
       "      <td>I recently stayed at the Affina Chicago hotel ...</td>\n",
       "    </tr>\n",
       "    <tr>\n",
       "      <th>2</th>\n",
       "      <td>1</td>\n",
       "      <td>1</td>\n",
       "      <td>I stayed at the Affina Chicago for my annivers...</td>\n",
       "    </tr>\n",
       "    <tr>\n",
       "      <th>3</th>\n",
       "      <td>1</td>\n",
       "      <td>1</td>\n",
       "      <td>If you are looking for a high end hotel on the...</td>\n",
       "    </tr>\n",
       "    <tr>\n",
       "      <th>4</th>\n",
       "      <td>1</td>\n",
       "      <td>1</td>\n",
       "      <td>I just returned from a long weekend in Chicago...</td>\n",
       "    </tr>\n",
       "  </tbody>\n",
       "</table>\n",
       "</div>"
      ],
      "text/plain": [
       "   Label  Rating                                         Ori_Review\n",
       "0      1       1  Affinia Chicago is one of the worst hotels I h...\n",
       "1      1       1  I recently stayed at the Affina Chicago hotel ...\n",
       "2      1       1  I stayed at the Affina Chicago for my annivers...\n",
       "3      1       1  If you are looking for a high end hotel on the...\n",
       "4      1       1  I just returned from a long weekend in Chicago..."
      ]
     },
     "metadata": {},
     "output_type": "display_data"
    }
   ],
   "source": [
    "df = data_prep.import_chi_review()\n",
    "print(len(df))\n",
    "display(df[:5])"
   ]
  },
  {
   "cell_type": "code",
   "execution_count": 28,
   "id": "6338d1d5",
   "metadata": {},
   "outputs": [
    {
     "data": {
      "text/html": [
       "<div>\n",
       "<style scoped>\n",
       "    .dataframe tbody tr th:only-of-type {\n",
       "        vertical-align: middle;\n",
       "    }\n",
       "\n",
       "    .dataframe tbody tr th {\n",
       "        vertical-align: top;\n",
       "    }\n",
       "\n",
       "    .dataframe thead th {\n",
       "        text-align: right;\n",
       "    }\n",
       "</style>\n",
       "<table border=\"1\" class=\"dataframe\">\n",
       "  <thead>\n",
       "    <tr style=\"text-align: right;\">\n",
       "      <th></th>\n",
       "      <th>Label</th>\n",
       "      <th>Rating</th>\n",
       "      <th>Ori_Review</th>\n",
       "      <th>Clean_Review</th>\n",
       "      <th>PP_Review</th>\n",
       "      <th>Word_List</th>\n",
       "      <th>Word_List_all</th>\n",
       "      <th>num_word</th>\n",
       "      <th>num_coreword</th>\n",
       "      <th>num_stopword</th>\n",
       "      <th>num_char</th>\n",
       "      <th>char_per_word</th>\n",
       "      <th>num_first_sing</th>\n",
       "      <th>num_first_pru</th>\n",
       "      <th>num_third</th>\n",
       "    </tr>\n",
       "  </thead>\n",
       "  <tbody>\n",
       "    <tr>\n",
       "      <th>0</th>\n",
       "      <td>1</td>\n",
       "      <td>1</td>\n",
       "      <td>Affinia Chicago is one of the worst hotels I h...</td>\n",
       "      <td>affinia chicago be one of the bad hotel i have...</td>\n",
       "      <td>affinia one bad ever life treat poorly guest f...</td>\n",
       "      <td>[affinia, one, bad, ever, life, treat, poorly,...</td>\n",
       "      <td>[affinia, chicago, be, one, of, the, bad, hote...</td>\n",
       "      <td>166</td>\n",
       "      <td>56</td>\n",
       "      <td>110</td>\n",
       "      <td>845</td>\n",
       "      <td>5.090361</td>\n",
       "      <td>15</td>\n",
       "      <td>0</td>\n",
       "      <td>2</td>\n",
       "    </tr>\n",
       "    <tr>\n",
       "      <th>1</th>\n",
       "      <td>1</td>\n",
       "      <td>1</td>\n",
       "      <td>I recently stayed at the Affina Chicago hotel ...</td>\n",
       "      <td>i recently stay at the affina chicago hotel an...</td>\n",
       "      <td>recently affina really dissappointed arrive de...</td>\n",
       "      <td>[recently, affina, really, dissappointed, arri...</td>\n",
       "      <td>[i, recently, stay, at, the, affina, chicago, ...</td>\n",
       "      <td>224</td>\n",
       "      <td>94</td>\n",
       "      <td>130</td>\n",
       "      <td>1168</td>\n",
       "      <td>5.214286</td>\n",
       "      <td>19</td>\n",
       "      <td>0</td>\n",
       "      <td>1</td>\n",
       "    </tr>\n",
       "    <tr>\n",
       "      <th>2</th>\n",
       "      <td>1</td>\n",
       "      <td>1</td>\n",
       "      <td>I stayed at the Affina Chicago for my annivers...</td>\n",
       "      <td>i stay at the affina chicago for my anniversar...</td>\n",
       "      <td>affina anniversary great location make poor cu...</td>\n",
       "      <td>[affina, anniversary, great, location, make, p...</td>\n",
       "      <td>[i, stay, at, the, affina, chicago, for, my, a...</td>\n",
       "      <td>69</td>\n",
       "      <td>29</td>\n",
       "      <td>40</td>\n",
       "      <td>373</td>\n",
       "      <td>5.405797</td>\n",
       "      <td>4</td>\n",
       "      <td>0</td>\n",
       "      <td>0</td>\n",
       "    </tr>\n",
       "    <tr>\n",
       "      <th>3</th>\n",
       "      <td>1</td>\n",
       "      <td>1</td>\n",
       "      <td>If you are looking for a high end hotel on the...</td>\n",
       "      <td>if you be look for a high end hotel on the mag...</td>\n",
       "      <td>look high end magnificent mile affinia best op...</td>\n",
       "      <td>[look, high, end, magnificent, mile, affinia, ...</td>\n",
       "      <td>[if, you, be, look, for, a, high, end, hotel, ...</td>\n",
       "      <td>146</td>\n",
       "      <td>55</td>\n",
       "      <td>91</td>\n",
       "      <td>768</td>\n",
       "      <td>5.260274</td>\n",
       "      <td>0</td>\n",
       "      <td>0</td>\n",
       "      <td>1</td>\n",
       "    </tr>\n",
       "    <tr>\n",
       "      <th>4</th>\n",
       "      <td>1</td>\n",
       "      <td>1</td>\n",
       "      <td>I just returned from a long weekend in Chicago...</td>\n",
       "      <td>i just return from a long weekend in chicago w...</td>\n",
       "      <td>return long weekend wife affinia cannot even b...</td>\n",
       "      <td>[return, long, weekend, wife, affinia, cannot,...</td>\n",
       "      <td>[i, just, return, from, a, long, weekend, in, ...</td>\n",
       "      <td>253</td>\n",
       "      <td>101</td>\n",
       "      <td>152</td>\n",
       "      <td>1278</td>\n",
       "      <td>5.051383</td>\n",
       "      <td>9</td>\n",
       "      <td>15</td>\n",
       "      <td>0</td>\n",
       "    </tr>\n",
       "  </tbody>\n",
       "</table>\n",
       "</div>"
      ],
      "text/plain": [
       "   Label  Rating                                         Ori_Review  \\\n",
       "0      1       1  Affinia Chicago is one of the worst hotels I h...   \n",
       "1      1       1  I recently stayed at the Affina Chicago hotel ...   \n",
       "2      1       1  I stayed at the Affina Chicago for my annivers...   \n",
       "3      1       1  If you are looking for a high end hotel on the...   \n",
       "4      1       1  I just returned from a long weekend in Chicago...   \n",
       "\n",
       "                                        Clean_Review  \\\n",
       "0  affinia chicago be one of the bad hotel i have...   \n",
       "1  i recently stay at the affina chicago hotel an...   \n",
       "2  i stay at the affina chicago for my anniversar...   \n",
       "3  if you be look for a high end hotel on the mag...   \n",
       "4  i just return from a long weekend in chicago w...   \n",
       "\n",
       "                                           PP_Review  \\\n",
       "0  affinia one bad ever life treat poorly guest f...   \n",
       "1  recently affina really dissappointed arrive de...   \n",
       "2  affina anniversary great location make poor cu...   \n",
       "3  look high end magnificent mile affinia best op...   \n",
       "4  return long weekend wife affinia cannot even b...   \n",
       "\n",
       "                                           Word_List  \\\n",
       "0  [affinia, one, bad, ever, life, treat, poorly,...   \n",
       "1  [recently, affina, really, dissappointed, arri...   \n",
       "2  [affina, anniversary, great, location, make, p...   \n",
       "3  [look, high, end, magnificent, mile, affinia, ...   \n",
       "4  [return, long, weekend, wife, affinia, cannot,...   \n",
       "\n",
       "                                       Word_List_all  num_word  num_coreword  \\\n",
       "0  [affinia, chicago, be, one, of, the, bad, hote...       166            56   \n",
       "1  [i, recently, stay, at, the, affina, chicago, ...       224            94   \n",
       "2  [i, stay, at, the, affina, chicago, for, my, a...        69            29   \n",
       "3  [if, you, be, look, for, a, high, end, hotel, ...       146            55   \n",
       "4  [i, just, return, from, a, long, weekend, in, ...       253           101   \n",
       "\n",
       "   num_stopword  num_char  char_per_word  num_first_sing  num_first_pru  \\\n",
       "0           110       845       5.090361              15              0   \n",
       "1           130      1168       5.214286              19              0   \n",
       "2            40       373       5.405797               4              0   \n",
       "3            91       768       5.260274               0              0   \n",
       "4           152      1278       5.051383               9             15   \n",
       "\n",
       "   num_third  \n",
       "0          2  \n",
       "1          1  \n",
       "2          0  \n",
       "3          1  \n",
       "4          0  "
      ]
     },
     "execution_count": 28,
     "metadata": {},
     "output_type": "execute_result"
    }
   ],
   "source": [
    "df = data_prep.preprocess_ngram(df)\n",
    "df = data_prep.preprocess_ling_feature(df)\n",
    "df = linguistic_feature.ling_feature(df)\n",
    "df.head()"
   ]
  },
  {
   "cell_type": "markdown",
   "id": "b86acb86",
   "metadata": {},
   "source": [
    "## Sample Reviews"
   ]
  },
  {
   "cell_type": "markdown",
   "id": "0f8b3e84",
   "metadata": {},
   "source": [
    "#### Deceptive"
   ]
  },
  {
   "cell_type": "code",
   "execution_count": 29,
   "id": "36ce8989",
   "metadata": {},
   "outputs": [
    {
     "name": "stdout",
     "output_type": "stream",
     "text": [
      "Terrible experience, I will not stay here again. The walls were so thin that I was kept up all night by the party going on in the suite next to mine. I talked to the management several times, but nothing was done. It may just be the people that I had contact with, but I thought the staff was standoffish and rude. Very unpleasant experience, especially given the cost of staying here!\n",
      "\n",
      "I went to the Homewood Suites in Chicago which is part of Hilton's famous hotels. I gotta say that this is the worst hotel that I have ever been to. In fact, Homewood Suites is the worst hotel on the face of this planet. I checked out the rooms and their rooms look like the hotel was built in bad shape. In fact, the rooms looked so bad that I wanted to leave the hotel early. I also got to check out the employees who worked for this hotel. I saw one of the employees and when I rung the bell for my room, they ignored me. How could a hotel have the worst service when they are supposed to not ignore you? One more thing that I hate about this hotel is that the logo didn't look like the actual logo. It looked more like the logo was changed to look more like something a baby could draw. I'll never go to this hotel again and it won't even be in a million years for that matter. This is a hotel that I will never recommend to anyone because of everything the hotel has to offer.\n",
      "\n",
      "Fantastic stay! The hotel was beautifully decorated and immaculately clean. I chose this place because a friend recommended it plus it was VERY close to my business conference. Here you get the resources and exemplary four star luxury treatment with the downtown Chicago charm. Be sure to try the ribs at South Water Kitchen next door. They are the best I've ever had. EVER! If youre in the mood to unwind, you can sample the evening wine tastings downstairs or take a walk and explore the nightlife all around. I had a great time here. From now on, I won't stay anyplace else.\n",
      "\n"
     ]
    }
   ],
   "source": [
    "for txt in df[df['Label'] == 1]['Ori_Review'].sample(3):\n",
    "    print(txt)\n",
    "    print()"
   ]
  },
  {
   "cell_type": "markdown",
   "id": "1c977dba",
   "metadata": {},
   "source": [
    "#### Truthful"
   ]
  },
  {
   "cell_type": "code",
   "execution_count": 30,
   "id": "97fd6180",
   "metadata": {},
   "outputs": [
    {
     "name": "stdout",
     "output_type": "stream",
     "text": [
      "We connected to Affinia Chicago thorugh a city websight. The deal was fair for a downtown hotel on the main drag with an attractiion included. There was information out there that the hotel was being overhauled although we did not pay much attention to that. They are currently under major construction. They will be a little late of their projections in the finish date. I must say that the staff tried very hard to make our stay comfortable under very difficult circumstances. The room was complete and was good. It had a very nice bathroom. The main lobbie and all hotel amenities are totally unfinished drywall with no food, drink, or rest room opportunities. The construction guys did their best to limit activity and noise to after 9:00am. I think this will be a good one once they are done. As of the end of May, they have a way yet to go.\n",
      "\n",
      "After reading all the lukewarm reviews for this hotel, I went ahead and got an Ambassador membership just to hedge off any unpleasantness. I normally have a good experience with Intercontinental hotels, particularly the Mark Hopkins in SF. I called the hotel directly to confirm that my reservation was designated as Ambassador Club. When I arrived at the hotel, there was no separate check-in line (as advertised) and the manager on duty basically ignored me when I told him I was an ambassador club member and stuck me with a regular tiny room. I was nearly half an hour checking in the room and had to deal with the arrogant attitude of the manager on duty. They gave me a room in the \"modern\" tower, (built in the 60's) which was about 2/3 the size of a regular room at the Mark Hopkins (built in '29). I had to deal with torn sheets, cracked marble sinks, and the spare roll of toilet paper being located OUTSIDE the bathroom inside the closet - how convenient is that? The closet door, if you are not careful, may break the full length mirror attached to the bathroom door. I was not provided with a key to the minibar and I called for turndown service, which never happened. The next day, they finally got around to the fact that I was an Ambassador Club member and entitled to an upgraded room, but since I travel with a medical device which I already set up in the tiny room, I declined. To their credit, they did send some of the amenities I would otherwise be entitled to as an Ambassador Club member. I would not stay at this hotel next time I go to Chicago. There are other better places for the money including, the Omni, The James, The Fairmont, Hyatt, Sheraton, Monaco, Crowne Plaza, even the Holiday Inn and Marriotts located in the same general area.\n",
      "\n",
      "I stayed for four nights while attending a conference. The hotel is in a great spot - easy walk to Michigan Ave shopping or Rush St., but just off the busy streets. The room I had was spacious, and very well-appointed. The staff was friendly, and the fitness center, while not huge, was well-equipped and clean. I've stayed at a number of hotels in Chicago, and this one is my favorite. Internet wasn't free, but at $10 for 24 hours is cheaper than most business hotels, and it worked very well.\n",
      "\n"
     ]
    }
   ],
   "source": [
    "for txt in df[df['Label'] == -1]['Ori_Review'].sample(3):\n",
    "    print(txt)\n",
    "    print()"
   ]
  },
  {
   "cell_type": "markdown",
   "id": "fd556d5d",
   "metadata": {},
   "source": [
    "## Explore Data Distribution"
   ]
  },
  {
   "cell_type": "markdown",
   "id": "0d0956d4",
   "metadata": {},
   "source": [
    "#### Review length distribution (by charactors and words)"
   ]
  },
  {
   "cell_type": "code",
   "execution_count": 34,
   "id": "59e2ce2c",
   "metadata": {},
   "outputs": [
    {
     "data": {
      "image/png": "[encoded data removed]",
      "text/plain": [
       "<Figure size 1080x360 with 2 Axes>"
      ]
     },
     "metadata": {},
     "output_type": "display_data"
    }
   ],
   "source": [
    "fig, (ax1, ax2) = plt.subplots(1, 2)\n",
    "fig.set_figheight(5)\n",
    "fig.set_figwidth(15)\n",
    "\n",
    "num_char_dec = df[df['Label'] == 1]['num_char']\n",
    "num_char_tru = df[df['Label'] == -1]['num_char']\n",
    "num_word_dec = df[df['Label'] == 1]['num_char']\n",
    "num_word_tru = df[df['Label'] == -1]['num_char']\n",
    "\n",
    "sns.histplot(num_char_dec, ax=ax1, element=\"step\", fill=False, label='Deceptive')\n",
    "sns.histplot(num_char_tru, ax=ax1, element=\"step\", fill=False, label='Truthful')\n",
    "ax1.axvline(x=num_char_dec.mean(), label='Avg (Deceptive)', c='g')\n",
    "ax1.axvline(x=num_char_tru.mean(), label='Avg (Truthful)', c='r')\n",
    "ax1.set_title('Sentence Length (Charactor) Histogram')\n",
    "ax1.legend()\n",
    "\n",
    "sns.histplot(num_word_dec, ax=ax2, element=\"step\", fill=False, label='Deceptive')\n",
    "sns.histplot(num_word_tru, ax=ax2, element=\"step\", fill=False, label='Truthful')\n",
    "ax2.axvline(x=num_word_dec.mean(), label='Avg (Deceptive)', c='g')\n",
    "ax2.axvline(x=num_word_tru.mean(), label='Avg (Truthful)', c='r')\n",
    "ax2.set_title('Sentence Length (Word) Histogram')\n",
    "ax2.legend()\n",
    "\n",
    "plt.show()"
   ]
  },
  {
   "cell_type": "markdown",
   "id": "534b98e1",
   "metadata": {},
   "source": [
    "#### Core word and stop word distribution"
   ]
  },
  {
   "cell_type": "code",
   "execution_count": 33,
   "id": "677f64a3",
   "metadata": {
    "scrolled": false
   },
   "outputs": [
    {
     "data": {
      "image/png": "[encoded data removed]",
      "text/plain": [
       "<Figure size 1080x360 with 2 Axes>"
      ]
     },
     "metadata": {},
     "output_type": "display_data"
    }
   ],
   "source": [
    "fig, (ax1, ax2) = plt.subplots(1, 2)\n",
    "fig.set_figheight(5)\n",
    "fig.set_figwidth(15)\n",
    "\n",
    "num_core_dec = df[df['Label'] == 1]['num_coreword']\n",
    "num_core_tru = df[df['Label'] == -1]['num_coreword']\n",
    "num_stop_dec = df[df['Label'] == 1]['num_stopword']\n",
    "num_stop_tru = df[df['Label'] == -1]['num_stopword']\n",
    "\n",
    "sns.histplot(num_core_dec, ax=ax1, element=\"step\", fill=False, label='Deceptive')\n",
    "sns.histplot(num_core_tru, ax=ax1, element=\"step\", fill=False, label='Truthful')\n",
    "ax1.axvline(x=num_core_dec.mean(), label='Avg (Deceptive)', c='g')\n",
    "ax1.axvline(x=num_core_tru.mean(), label='Avg (Truthful)', c='r')\n",
    "ax1.set_title('Number of Core Words Histogram')\n",
    "ax1.legend()\n",
    "\n",
    "sns.histplot(num_stop_dec, ax=ax2, element=\"step\", fill=False, label='Deceptive')\n",
    "sns.histplot(num_stop_tru, ax=ax2, element=\"step\", fill=False, label='Truthful')\n",
    "ax2.axvline(x=num_stop_dec.mean(), label='Avg (Deceptive)', c='g')\n",
    "ax2.axvline(x=num_stop_tru.mean(), label='Avg (Truthful)', c='r')\n",
    "ax2.set_title('Number of Stop Words Histogram')\n",
    "ax2.legend()\n",
    "\n",
    "plt.show()"
   ]
  },
  {
   "cell_type": "markdown",
   "id": "60403fa4",
   "metadata": {},
   "source": [
    "#### Pronoun Distribution"
   ]
  },
  {
   "cell_type": "code",
   "execution_count": 33,
   "id": "4bd6ad6f",
   "metadata": {},
   "outputs": [
    {
     "data": {
      "image/png": "[encoded data removed]",
      "text/plain": [
       "<Figure size 1080x360 with 2 Axes>"
      ]
     },
     "metadata": {},
     "output_type": "display_data"
    },
    {
     "data": {
      "text/plain": [
       "<Figure size 432x288 with 0 Axes>"
      ]
     },
     "metadata": {},
     "output_type": "display_data"
    }
   ],
   "source": [
    "fig, (ax1, ax2) = plt.subplots(1, 2)\n",
    "fig.set_figheight(5)\n",
    "fig.set_figwidth(15)\n",
    "\n",
    "num_fs_dec = df[df['Label'] == 1]['num_first_sing']\n",
    "num_fs_tru = df[df['Label'] == -1]['num_first_sing']\n",
    "num_fp_dec = df[df['Label'] == 1]['num_first_pru']\n",
    "num_fp_tru = df[df['Label'] == -1]['num_first_pru']\n",
    "num_third_dec = df[df['Label'] == 1]['num_third']\n",
    "num_third_tru = df[df['Label'] == -1]['num_third']\n",
    "\n",
    "sns.histplot(num_f_dec, ax=ax1, element=\"step\", fill=False, label='Deceptive')\n",
    "sns.histplot(num_f_tru, ax=ax1, element=\"step\", fill=False, label='Truthful')\n",
    "ax1.axvline(x=num_f_dec.mean(), label='Avg (Deceptive)', c='g')\n",
    "ax1.axvline(x=num_f_tru.mean(), label='Avg (Truthful)', c='r')\n",
    "ax1.set_title('First-Person Singular Pronoun Histogram')\n",
    "ax1.set(xlabel='')\n",
    "ax1.legend()\n",
    "\n",
    "sns.histplot(num_fs_dec, ax=ax2, element=\"step\", fill=False, label='Deceptive')\n",
    "sns.histplot(num_fs_tru, ax=ax2, element=\"step\", fill=False, label='Truthful')\n",
    "ax2.axvline(x=num_fs_dec.mean(), label='Avg (Deceptive)', c='g')\n",
    "ax2.axvline(x=num_fs_tru.mean(), label='Avg (Truthful)', c='r')\n",
    "ax2.set_title('First-Person Plural Pronoun Histogram')\n",
    "ax2.set(xlabel='')\n",
    "ax2.legend()\n",
    "\n",
    "plt.show()\n",
    "plt.savefig('first_person_pronoun.svg')"
   ]
  }
 ],
 "metadata": {
  "kernelspec": {
   "display_name": "Python (base)",
   "language": "python",
   "name": "base"
  },
  "language_info": {
   "codemirror_mode": {
    "name": "ipython",
    "version": 3
   },
   "file_extension": ".py",
   "mimetype": "text/x-python",
   "name": "python",
   "nbconvert_exporter": "python",
   "pygments_lexer": "ipython3",
   "version": "3.8.8"
  }
 },
 "nbformat": 4,
 "nbformat_minor": 5
}
